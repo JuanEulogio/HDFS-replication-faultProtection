{
 "cells": [
  {
   "cell_type": "code",
   "execution_count": 1,
   "id": "3c490dc7-c314-44eb-b9d1-803e47e5e9af",
   "metadata": {},
   "outputs": [
    {
     "name": "stdout",
     "output_type": "stream",
     "text": [
      "Live datanodes (2):\n"
     ]
    }
   ],
   "source": [
    "#q9\n",
    "!hdfs dfsadmin -fs hdfs://boss:9000 -report| grep \"Live datanodes\""
   ]
  },
  {
   "cell_type": "code",
   "execution_count": 3,
   "id": "3d89d1e5-f83f-407e-9d8f-d321aa87ab87",
   "metadata": {},
   "outputs": [
    {
     "name": "stdout",
     "output_type": "stream",
     "text": [
      "0\n"
     ]
    }
   ],
   "source": [
    "#q10\n",
    "from collections import defaultdict\n",
    "import requests\n",
    "\n",
    "r= requests.get(\"http://boss:9870/webhdfs/v1/single.parquet?op=GETFILEBLOCKLOCATIONS\")\n",
    "\n",
    "blocksLost= 0\n",
    "for topologyPath in r.json()[\"BlockLocations\"][\"BlockLocation\"]:\n",
    "    if len( topologyPath[\"hosts\"] )== 0:\n",
    "        blocksLost+=1\n",
    "    \n",
    "# print(blocksLost)\n",
    "blocksLost"
   ]
  },
  {
   "cell_type": "code",
   "execution_count": null,
   "id": "646a7f45-5fed-410e-8b2a-3e08f3131188",
   "metadata": {},
   "outputs": [],
   "source": []
  }
 ],
 "metadata": {
  "kernelspec": {
   "display_name": "Python 3 (ipykernel)",
   "language": "python",
   "name": "python3"
  },
  "language_info": {
   "codemirror_mode": {
    "name": "ipython",
    "version": 3
   },
   "file_extension": ".py",
   "mimetype": "text/x-python",
   "name": "python",
   "nbconvert_exporter": "python",
   "pygments_lexer": "ipython3",
   "version": "3.10.12"
  }
 },
 "nbformat": 4,
 "nbformat_minor": 5
}
